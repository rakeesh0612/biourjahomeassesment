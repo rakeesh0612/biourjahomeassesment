{
  "nbformat": 4,
  "nbformat_minor": 0,
  "metadata": {
    "colab": {
      "provenance": []
    },
    "kernelspec": {
      "name": "python3",
      "display_name": "Python 3"
    },
    "language_info": {
      "name": "python"
    }
  },
  "cells": [
    {
      "cell_type": "code",
      "execution_count": 2,
      "metadata": {
        "colab": {
          "base_uri": "https://localhost:8080/"
        },
        "id": "VBwqnhmrWdfI",
        "outputId": "f30a82dc-09a8-4bd7-905c-333ef6931562"
      },
      "outputs": [
        {
          "output_type": "stream",
          "name": "stdout",
          "text": [
            "   Plant_Name  Redistributed_Forecast\n",
            "0          E1               61.896509\n",
            "1          E2               92.844764\n",
            "2          E3               30.948255\n",
            "3          E4               61.896509\n",
            "4          E5               92.844764\n",
            "..        ...                     ...\n",
            "95        S31              154.741273\n",
            "96        S32               92.844764\n",
            "97        S33              123.793018\n",
            "98        S34               30.948255\n",
            "99        S35              216.637782\n",
            "\n",
            "[100 rows x 2 columns]\n"
          ]
        }
      ],
      "source": [
        "import pandas as pd\n",
        "import csv\n",
        "\n",
        "# Load the input data from the CSV file\n",
        "data = pd.read_csv(\"inputdata.csv\")  # Replace with the actual file path\n",
        "\n",
        "# Define the regional and state-level forecasts\n",
        "regional_forecasts = {\n",
        "    \"East\": 2800,\n",
        "    \"North\": 2000,\n",
        "    \"West\": 1500,\n",
        "    \"South\": 6500\n",
        "}\n",
        "state_forecast = 12000\n",
        "\n",
        "# Initialize empty columns for redistributed forecasts\n",
        "data[\"Redistributed_Forecast\"] = 0.0\n",
        "\n",
        "# Extract the zone information from the plant names and store it in a new column\n",
        "data[\"Zone\"] = data[\"Plant_Name\"].str.extract(r'([A-Z]+)')\n",
        "\n",
        "# Loop through the rows in the DataFrame and perform redistribution\n",
        "for index, row in data.iterrows():\n",
        "    forecast = row[\"Forecast\"]\n",
        "    capacity = row[\"Capacity\"]\n",
        "    zone = row[\"Zone\"]\n",
        "\n",
        "    # Calculate the weight based on the current individual forecast compared to capacity\n",
        "    weight = forecast / capacity\n",
        "\n",
        "    # Calculate the redistributed forecast for the specific zone\n",
        "    if zone==\"E\":\n",
        "      s=2800\n",
        "    if zone==\"N\":\n",
        "      s=2000\n",
        "    if zone==\"W\":\n",
        "      s=1500\n",
        "    if zone==\"S\":\n",
        "      s=6500\n",
        "    redistributed_forecast_zone = s * weight\n",
        "\n",
        "    # Check if the redistributed forecast exceeds the capacity and adjust if necessary\n",
        "    if redistributed_forecast_zone > capacity:\n",
        "        redistributed_forecast_zone = capacity\n",
        "\n",
        "    # Update the DataFrame with the redistributed forecast\n",
        "    data.at[index, \"Redistributed_Forecast\"] = redistributed_forecast_zone\n",
        "\n",
        "# Calculate the total redistributed forecast\n",
        "total_redistributed_forecast = data[\"Redistributed_Forecast\"].sum()\n",
        "\n",
        "# Check if the total redistributed forecast exceeds the state-level forecast\n",
        "if total_redistributed_forecast > state_forecast:\n",
        "    scale_factor = state_forecast / total_redistributed_forecast\n",
        "\n",
        "    # Scale down the redistributed forecasts to match the state-level forecast\n",
        "    data[\"Redistributed_Forecast\"] *= scale_factor\n",
        "\n",
        "# Save the result to a new CSV file\n",
        "data.to_csv(\"outputdata.csv\", index=False)\n",
        "df=pd.read_csv('outputdata.csv')\n",
        "columns=df[['Plant_Name','Redistributed_Forecast']]\n",
        "print(columns)"
      ]
    },
    {
      "cell_type": "markdown",
      "source": [],
      "metadata": {
        "id": "q_hpXqIiW1pF"
      }
    },
    {
      "cell_type": "code",
      "execution_count": null,
      "metadata": {
        "colab": {
          "base_uri": "https://localhost:8080/"
        },
        "outputId": "f30a82dc-09a8-4bd7-905c-333ef6931562",
        "id": "sam9WVmvW2kU"
      },
      "outputs": [
        {
          "output_type": "stream",
          "name": "stdout",
          "text": [
            "   Plant_Name  Redistributed_Forecast\n",
            "0          E1               61.896509\n",
            "1          E2               92.844764\n",
            "2          E3               30.948255\n",
            "3          E4               61.896509\n",
            "4          E5               92.844764\n",
            "..        ...                     ...\n",
            "95        S31              154.741273\n",
            "96        S32               92.844764\n",
            "97        S33              123.793018\n",
            "98        S34               30.948255\n",
            "99        S35              216.637782\n",
            "\n",
            "[100 rows x 2 columns]\n"
          ]
        }
      ],
      "source": [
        "import pandas as pd\n",
        "import csv\n",
        "\n",
        "# Load the input data from the CSV file\n",
        "data = pd.read_csv(\"inputdata.csv\")  # Replace with the actual file path\n",
        "\n",
        "# Define the regional and state-level forecasts\n",
        "regional_forecasts = {\n",
        "    \"East\": 2800,\n",
        "    \"North\": 2000,\n",
        "    \"West\": 1500,\n",
        "    \"South\": 6500\n",
        "}\n",
        "state_forecast = 12000\n",
        "\n",
        "# Initialize empty columns for redistributed forecasts\n",
        "data[\"Redistributed_Forecast\"] = 0.0\n",
        "\n",
        "# Extract the zone information from the plant names and store it in a new column\n",
        "data[\"Zone\"] = data[\"Plant_Name\"].str.extract(r'([A-Z]+)')\n",
        "\n",
        "# Loop through the rows in the DataFrame and perform redistribution\n",
        "for index, row in data.iterrows():\n",
        "    forecast = row[\"Forecast\"]\n",
        "    capacity = row[\"Capacity\"]\n",
        "    zone = row[\"Zone\"]\n",
        "\n",
        "    # Calculate the weight based on the current individual forecast compared to capacity\n",
        "    weight = forecast / capacity\n",
        "\n",
        "    # Calculate the redistributed forecast for the specific zone\n",
        "    if zone==\"E\":\n",
        "      s=2800\n",
        "    if zone==\"N\":\n",
        "      s=2000\n",
        "    if zone==\"W\":\n",
        "      s=1500\n",
        "    if zone==\"S\":\n",
        "      s=6500\n",
        "    redistributed_forecast_zone = s * weight\n",
        "\n",
        "    # Check if the redistributed forecast exceeds the capacity and adjust if necessary\n",
        "    if redistributed_forecast_zone > capacity:\n",
        "        redistributed_forecast_zone = capacity\n",
        "\n",
        "    # Update the DataFrame with the redistributed forecast\n",
        "    data.at[index, \"Redistributed_Forecast\"] = redistributed_forecast_zone\n",
        "\n",
        "# Calculate the total redistributed forecast\n",
        "total_redistributed_forecast = data[\"Redistributed_Forecast\"].sum()\n",
        "\n",
        "# Check if the total redistributed forecast exceeds the state-level forecast\n",
        "if total_redistributed_forecast > state_forecast:\n",
        "    scale_factor = state_forecast / total_redistributed_forecast\n",
        "\n",
        "    # Scale down the redistributed forecasts to match the state-level forecast\n",
        "    data[\"Redistributed_Forecast\"] *= scale_factor\n",
        "\n",
        "# Save the result to a new CSV file\n",
        "data.to_csv(\"outputdata.csv\", index=False)\n",
        "df=pd.read_csv('outputdata.csv')\n",
        "columns=df[['Plant_Name','Redistributed_Forecast']]\n",
        "print(columns)"
      ]
    }
  ]
}